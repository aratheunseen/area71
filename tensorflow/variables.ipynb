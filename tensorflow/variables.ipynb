{
 "cells": [
  {
   "cell_type": "code",
   "execution_count": null,
   "metadata": {},
   "outputs": [],
   "source": [
    "import tensorflow as tf"
   ]
  },
  {
   "cell_type": "code",
   "execution_count": null,
   "metadata": {},
   "outputs": [],
   "source": [
    "string = tf.Variable(\"I am Ash\", tf.string)\n",
    "number = tf.Variable(123, tf.int16)\n",
    "floating = tf.Variable(3.14, tf.float64)\n",
    "\n",
    "rank1_tensor = tf.Variable([\"Test\"], tf.string) # rank 1 tensor\n",
    "rank2_tensor = tf.Variable([[\"test\", \"ok\"], [\"test\", \"yes\"],[\"test\", \"yes\"]], tf.string) # rank 2 tensor"
   ]
  },
  {
   "cell_type": "code",
   "execution_count": null,
   "metadata": {},
   "outputs": [],
   "source": [
    "print(floating)\n",
    "print(rank2_tensor)"
   ]
  },
  {
   "cell_type": "code",
   "execution_count": null,
   "metadata": {},
   "outputs": [],
   "source": [
    "\n",
    "print(tf.rank(string))\n",
    "print(tf.rank(floating))\n",
    "print(tf.rank(rank1_tensor))\n",
    "print(tf.rank(rank2_tensor))"
   ]
  },
  {
   "cell_type": "code",
   "execution_count": null,
   "metadata": {},
   "outputs": [],
   "source": [
    "shapeWithZeros = tf.zeros([3,4], tf.int16)\n",
    "shapeWithOnes = tf.ones([2,3], tf.int16)\n",
    "\n",
    "print(shapeWithZeros)\n",
    "print(shapeWithOnes)\n",
    "\n",
    "print(shapeWithZeros.shape)\n",
    "print(shapeWithOnes.shape)"
   ]
  },
  {
   "cell_type": "code",
   "execution_count": null,
   "metadata": {},
   "outputs": [],
   "source": [
    "reshaped = tf.reshape(shapeWithZeros, [2,3,2])\n",
    "print(reshaped)"
   ]
  },
  {
   "cell_type": "code",
   "execution_count": null,
   "metadata": {},
   "outputs": [],
   "source": [
    "reshaped2 = tf.reshape(shapeWithZeros, [4,-1])\n",
    "reshaped3 = tf.reshape(shapeWithZeros, [2,-1])\n",
    "\n",
    "print(reshaped2)\n",
    "print(reshaped3)"
   ]
  }
 ],
 "metadata": {
  "kernelspec": {
   "display_name": "Python 3",
   "language": "python",
   "name": "python3"
  },
  "language_info": {
   "codemirror_mode": {
    "name": "ipython",
    "version": 3
   },
   "file_extension": ".py",
   "mimetype": "text/x-python",
   "name": "python",
   "nbconvert_exporter": "python",
   "pygments_lexer": "ipython3",
   "version": "3.10.10"
  }
 },
 "nbformat": 4,
 "nbformat_minor": 2
}
