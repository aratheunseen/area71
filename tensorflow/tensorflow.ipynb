{
 "cells": [
  {
   "cell_type": "code",
   "execution_count": 11,
   "metadata": {},
   "outputs": [],
   "source": [
    "import tensorflow as tf"
   ]
  },
  {
   "cell_type": "code",
   "execution_count": 10,
   "metadata": {},
   "outputs": [],
   "source": [
    "string = tf.Variable(\"I am Ash\", tf.string)\n",
    "number = tf.Variable(123, tf.int16)\n",
    "floating = tf.Variable(3.14, tf.float64)\n",
    "\n",
    "rank1_tensor = tf.Variable([\"Test\"], tf.string) # rank 1 tensor\n",
    "rank2_tensor = tf.Variable([[\"test\", \"ok\"], [\"test\", \"yes\"],[\"test\", \"yes\"]], tf.string) # rank 2 tensor"
   ]
  },
  {
   "cell_type": "code",
   "execution_count": 8,
   "metadata": {},
   "outputs": [
    {
     "name": "stdout",
     "output_type": "stream",
     "text": [
      "<tf.Variable 'Variable:0' shape=() dtype=float32, numpy=3.14>\n",
      "<tf.Variable 'Variable:0' shape=(3, 2) dtype=string, numpy=\n",
      "array([[b'test', b'ok'],\n",
      "       [b'test', b'yes'],\n",
      "       [b'test', b'yes']], dtype=object)>\n"
     ]
    }
   ],
   "source": [
    "print(floating)\n",
    "print(rank2_tensor)"
   ]
  },
  {
   "cell_type": "code",
   "execution_count": 6,
   "metadata": {},
   "outputs": [
    {
     "name": "stdout",
     "output_type": "stream",
     "text": [
      "tf.Tensor(0, shape=(), dtype=int32)\n",
      "tf.Tensor(0, shape=(), dtype=int32)\n",
      "tf.Tensor(1, shape=(), dtype=int32)\n",
      "tf.Tensor(2, shape=(), dtype=int32)\n"
     ]
    }
   ],
   "source": [
    "\n",
    "print(tf.rank(string))\n",
    "print(tf.rank(floating))\n",
    "print(tf.rank(rank1_tensor))\n",
    "print(tf.rank(rank2_tensor))"
   ]
  },
  {
   "cell_type": "code",
   "execution_count": 29,
   "metadata": {},
   "outputs": [
    {
     "name": "stdout",
     "output_type": "stream",
     "text": [
      "tf.Tensor(\n",
      "[[0 0 0 0]\n",
      " [0 0 0 0]\n",
      " [0 0 0 0]], shape=(3, 4), dtype=int16)\n",
      "tf.Tensor(\n",
      "[[1 1 1]\n",
      " [1 1 1]], shape=(2, 3), dtype=int16)\n",
      "(3, 4)\n",
      "(2, 3)\n"
     ]
    }
   ],
   "source": [
    "shapeWithZeros = tf.zeros([3,4], tf.int16)\n",
    "shapeWithOnes = tf.ones([2,3], tf.int16)\n",
    "\n",
    "print(shapeWithZeros)\n",
    "print(shapeWithOnes)\n",
    "\n",
    "print(shapeWithZeros.shape)\n",
    "print(shapeWithOnes.shape)"
   ]
  },
  {
   "cell_type": "code",
   "execution_count": 26,
   "metadata": {},
   "outputs": [
    {
     "name": "stdout",
     "output_type": "stream",
     "text": [
      "tf.Tensor(\n",
      "[[[0 0]\n",
      "  [0 0]\n",
      "  [0 0]]\n",
      "\n",
      " [[0 0]\n",
      "  [0 0]\n",
      "  [0 0]]], shape=(2, 3, 2), dtype=int16)\n"
     ]
    }
   ],
   "source": [
    "reshaped = tf.reshape(shapeWithZeros, [2,3,2])\n",
    "print(reshaped)"
   ]
  },
  {
   "cell_type": "code",
   "execution_count": 27,
   "metadata": {},
   "outputs": [
    {
     "name": "stdout",
     "output_type": "stream",
     "text": [
      "tf.Tensor(\n",
      "[[0 0 0]\n",
      " [0 0 0]\n",
      " [0 0 0]\n",
      " [0 0 0]], shape=(4, 3), dtype=int16)\n"
     ]
    }
   ],
   "source": [
    "reshaped2 = tf.reshape(shapeWithZeros, [4,-1])\n",
    "print(reshaped2)"
   ]
  }
 ],
 "metadata": {
  "kernelspec": {
   "display_name": "Python 3",
   "language": "python",
   "name": "python3"
  },
  "language_info": {
   "codemirror_mode": {
    "name": "ipython",
    "version": 3
   },
   "file_extension": ".py",
   "mimetype": "text/x-python",
   "name": "python",
   "nbconvert_exporter": "python",
   "pygments_lexer": "ipython3",
   "version": "3.10.10"
  }
 },
 "nbformat": 4,
 "nbformat_minor": 2
}
